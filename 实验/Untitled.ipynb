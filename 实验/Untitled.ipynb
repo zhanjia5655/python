{
 "cells": [
  {
   "cell_type": "code",
   "execution_count": 2,
   "metadata": {},
   "outputs": [
    {
     "name": "stdout",
     "output_type": "stream",
     "text": [
      "shuru11\n",
      "11\n"
     ]
    }
   ],
   "source": [
    "a= input('shuru')\n",
    "print(a)"
   ]
  },
  {
   "cell_type": "code",
   "execution_count": null,
   "metadata": {},
   "outputs": [],
   "source": [
    "for"
   ]
  },
  {
   "cell_type": "code",
   "execution_count": 3,
   "metadata": {},
   "outputs": [
    {
     "name": "stdout",
     "output_type": "stream",
     "text": [
      "1\n",
      "2\n",
      "3\n",
      "4\n",
      "5\n",
      "6\n",
      "7\n",
      "8\n",
      "9\n",
      "10\n"
     ]
    }
   ],
   "source": [
    "for i in range(10):\n",
    "    print(i+1)"
   ]
  },
  {
   "cell_type": "code",
   "execution_count": 8,
   "metadata": {},
   "outputs": [
    {
     "name": "stdout",
     "output_type": "stream",
     "text": [
      "*****\n",
      "*   *\n",
      "*   *\n",
      "*   *\n",
      "*****\n"
     ]
    }
   ],
   "source": [
    "n = 5\n",
    "print('*'*n)\n",
    "for i in range(n-2):\n",
    "    print('*'+' '*(n-2)+'*')\n",
    "print('*'*n)\n"
   ]
  },
  {
   "cell_type": "code",
   "execution_count": 13,
   "metadata": {},
   "outputs": [
    {
     "name": "stdout",
     "output_type": "stream",
     "text": [
      "1x1=1\t1x2=2\t2x2=4\t1x3=3\t2x3=6\t3x3=9\t1x4=4\t2x4=8\t3x4=12\t4x4=16\t1x5=5\t2x5=10\t3x5=15\t4x5=20\t5x5=25\t1x6=6\t2x6=12\t3x6=18\t4x6=24\t5x6=30\t6x6=36\t1x7=7\t2x7=14\t3x7=21\t4x7=28\t5x7=35\t6x7=42\t7x7=49\t1x8=8\t2x8=16\t3x8=24\t4x8=32\t5x8=40\t6x8=48\t7x8=56\t8x8=64\t1x9=9\t2x9=18\t3x9=27\t4x9=36\t5x9=45\t6x9=54\t7x9=63\t8x9=72\t9x9=81\t"
     ]
    }
   ],
   "source": [
    "for i in range(1,10):\n",
    "    for j in range(1,i+1):\n",
    "        print(str(j)+'x'+str(i)+'='+str(i*j)+'\\t',end='')"
   ]
  },
  {
   "cell_type": "code",
   "execution_count": 14,
   "metadata": {},
   "outputs": [
    {
     "name": "stdout",
     "output_type": "stream",
     "text": [
      "1X1=1 1X2=2 2X2=4 1X3=3 2X3=6 3X3=9 1X4=4 2X4=8 3X4=12 4X4=16 1X5=5 2X5=10 3X5=15 4X5=20 5X5=25 1X6=6 2X6=12 3X6=18 4X6=24 5X6=30 6X6=36 1X7=7 2X7=14 3X7=21 4X7=28 5X7=35 6X7=42 7X7=49 1X8=8 2X8=16 3X8=24 4X8=32 5X8=40 6X8=48 7X8=56 8X8=64 1X9=9 2X9=18 3X9=27 4X9=36 5X9=45 6X9=54 7X9=63 8X9=72 9X9=81 "
     ]
    }
   ],
   "source": [
    "for i in range(1,10):\n",
    "    for j in range(1,i+1):\n",
    "        print(str(j)+'X'+str(i)+'='+str(i*j),end=' ')"
   ]
  },
  {
   "cell_type": "code",
   "execution_count": 18,
   "metadata": {},
   "outputs": [
    {
     "name": "stdout",
     "output_type": "stream",
     "text": [
      "1*1=1  \n",
      "1*2=2  2*2=4  \n",
      "1*3=3  2*3=6  3*3=9  \n",
      "1*4=4  2*4=8  3*4=12 4*4=16 \n",
      "1*5=5  2*5=10 3*5=15 4*5=20 5*5=25 \n",
      "1*6=6  2*6=12 3*6=18 4*6=24 5*6=30 6*6=36 \n",
      "1*7=7  2*7=14 3*7=21 4*7=28 5*7=35 6*7=42 7*7=49 \n",
      "1*8=8  2*8=16 3*8=24 4*8=32 5*8=40 6*8=48 7*8=56 8*8=64 \n",
      "1*9=9  2*9=18 3*9=27 4*9=36 5*9=45 6*9=54 7*9=63 8*9=72 9*9=81 \n"
     ]
    }
   ],
   "source": [
    "for i in range(1,10):\n",
    "    line=''\n",
    "    for j in range(1,i+1):\n",
    "        line+= '{}*{}={:<2} '.format(j,i,j*i)\n",
    "    print(line)"
   ]
  },
  {
   "cell_type": "code",
   "execution_count": 27,
   "metadata": {},
   "outputs": [
    {
     "name": "stdout",
     "output_type": "stream",
     "text": [
      "4\n",
      "6\n",
      "16\n",
      "4\n"
     ]
    }
   ],
   "source": [
    "import math\n",
    "#四舍六入五取偶\n",
    "print(round(4.5))\n",
    "print(round(5.5))\n",
    "print(pow(4,2))\n",
    "print(int(pow(16,0.5)))"
   ]
  },
  {
   "cell_type": "code",
   "execution_count": 31,
   "metadata": {},
   "outputs": [
    {
     "name": "stdout",
     "output_type": "stream",
     "text": [
      "[[1, 2, 3], [1, 2, 3], [1, 2, 3]]\n",
      "[[1, 2, 20], [1, 2, 20], [1, 2, 20]]\n"
     ]
    }
   ],
   "source": [
    "x = [[1,2,3]]*3\n",
    "print(x)\n",
    "x[1][2] = 20\n",
    "print(x)"
   ]
  },
  {
   "cell_type": "code",
   "execution_count": 29,
   "metadata": {},
   "outputs": [
    {
     "name": "stdout",
     "output_type": "stream",
     "text": [
      "[6, 7, 1, 1, 1]\n"
     ]
    }
   ],
   "source": [
    "y = [1]*5\n",
    "y[0] = 6\n",
    "y[1] = 7\n",
    "print(y)"
   ]
  },
  {
   "cell_type": "code",
   "execution_count": 35,
   "metadata": {},
   "outputs": [
    {
     "name": "stdout",
     "output_type": "stream",
     "text": [
      "[6, 5, 4, 3, 2]\n"
     ]
    }
   ],
   "source": [
    "a=[2,3,4,5,6]\n",
    "a.reverse()\n",
    "print(a)"
   ]
  },
  {
   "cell_type": "code",
   "execution_count": 9,
   "metadata": {},
   "outputs": [
    {
     "name": "stdout",
     "output_type": "stream",
     "text": [
      "True\n",
      "[0, 1, 10, 3] 1989852127816 1989852127816\n"
     ]
    }
   ],
   "source": [
    "lst0 = list(range(4))\n",
    "lst2 = list(range(4))\n",
    "print(lst0==lst2)\n",
    "lst1 = lst0#两个列表对应的内存地址是同一个\n",
    "lst1[2] = 10\n",
    "print(lst0,id(lst0),id(lst1))\n"
   ]
  },
  {
   "cell_type": "code",
   "execution_count": 11,
   "metadata": {},
   "outputs": [
    {
     "name": "stdout",
     "output_type": "stream",
     "text": [
      "True\n",
      "False 1989852086792 1989849537288\n"
     ]
    }
   ],
   "source": [
    "lst0 = list(range(4))\n",
    "lst5 = lst0.copy() #新复制一个列表\n",
    "print(lst5 == lst0)\n",
    "lst5[1] = 10\n",
    "print(lst5 == lst0,id(lst0),id(lst5))"
   ]
  },
  {
   "cell_type": "code",
   "execution_count": 1,
   "metadata": {},
   "outputs": [
    {
     "name": "stdout",
     "output_type": "stream",
     "text": [
      "True 2791900846856 2791900846600\n",
      "False 2791900846856 2791900846600\n",
      "[1, [2, 20, 4], 5] [1, [2, 3, 4], 5]\n"
     ]
    }
   ],
   "source": [
    "#深拷贝\n",
    "import copy\n",
    "lst0 = [1, [2, 3, 4], 5]\n",
    "lst5 = copy.deepcopy(lst0)\n",
    "print(lst5 == lst0,id(lst0),id(lst5))\n",
    "lst5[1][1] = 20\n",
    "\n",
    "print(lst5 == lst0,id(lst0),id(lst5))\n",
    "print(lst5,lst0)\n"
   ]
  },
  {
   "cell_type": "code",
   "execution_count": 2,
   "metadata": {},
   "outputs": [
    {
     "name": "stdout",
     "output_type": "stream",
     "text": [
      "2791900845896 2791900845576\n",
      "True\n",
      "[1, [2, 20, 4], 5] [1, [2, 20, 4], 5]\n"
     ]
    }
   ],
   "source": [
    "#浅拷贝\n",
    "lst0 = [1, [2, 3, 4], 5]\n",
    "lst5 = lst0.copy()# 类似[:]\n",
    "print(id(lst0),id(lst5))\n",
    "lst5[1][1] = 20\n",
    "print(lst5 == lst0)\n",
    "print(lst0,lst5)"
   ]
  },
  {
   "cell_type": "code",
   "execution_count": 5,
   "metadata": {
    "scrolled": true
   },
   "outputs": [
    {
     "name": "stdout",
     "output_type": "stream",
     "text": [
      "11\n",
      "1\n",
      "3\n",
      "[3, 8, 1, 9, 5, 12, 11]\n"
     ]
    },
    {
     "data": {
      "text/plain": [
       "['a', 'a']"
      ]
     },
     "execution_count": 5,
     "metadata": {},
     "output_type": "execute_result"
    }
   ],
   "source": [
    "import random\n",
    "lst1=[1,5,3,8,9,12,11]\n",
    "print(random.randint(3,20))\n",
    "print(random.choice(range(10)))\n",
    "print(random.randrange(3,10,2))# 3,5,7,9\n",
    "random.shuffle(lst1) #打乱列表\n",
    "print(lst1)\n",
    "random.sample(['a','b','c','d','f'],2)#随机选择生成一个新列表\n",
    "random.sample(['a','a'],2)"
   ]
  },
  {
   "cell_type": "code",
   "execution_count": null,
   "metadata": {},
   "outputs": [],
   "source": []
  },
  {
   "cell_type": "code",
   "execution_count": null,
   "metadata": {},
   "outputs": [],
   "source": []
  }
 ],
 "metadata": {
  "kernelspec": {
   "display_name": "Python 3",
   "language": "python",
   "name": "python3"
  },
  "language_info": {
   "codemirror_mode": {
    "name": "ipython",
    "version": 3
   },
   "file_extension": ".py",
   "mimetype": "text/x-python",
   "name": "python",
   "nbconvert_exporter": "python",
   "pygments_lexer": "ipython3",
   "version": "3.7.4"
  }
 },
 "nbformat": 4,
 "nbformat_minor": 2
}
