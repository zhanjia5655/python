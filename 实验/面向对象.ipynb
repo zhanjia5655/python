{
 "cells": [
  {
   "cell_type": "code",
   "execution_count": 9,
   "metadata": {},
   "outputs": [
    {
     "name": "stdout",
     "output_type": "stream",
     "text": [
      "1 {'name': 'zhanj', 'age': 20}\n",
      "{'__module__': '__main__', 'normal_method': <function Person.normal_method at 0x00000290E6DB01F8>, '__init__': <function Person.__init__ at 0x00000290E6DB0288>, 'method': <function Person.method at 0x00000290E6DB0318>, 'class_method': <classmethod object at 0x00000290E6DAE288>, '__dict__': <attribute '__dict__' of 'Person' objects>, '__weakref__': <attribute '__weakref__' of 'Person' objects>, '__doc__': None}\n",
      "------------------------------------\n",
      "class=<class '__main__.Person'>.__name__(<class '__main__.Person'>)\n"
     ]
    },
    {
     "data": {
      "text/plain": [
       "20"
      ]
     },
     "execution_count": 9,
     "metadata": {},
     "output_type": "execute_result"
    }
   ],
   "source": [
    "class Person:\n",
    "    def normal_method():\n",
    "        print('normal')\n",
    "    def __init__(self):\n",
    "        self.name=\"zhanj\"\n",
    "        self.age = 18\n",
    "    def method(self):\n",
    "        self.age +=2\n",
    "    @classmethod\n",
    "    def class_method(cls):\n",
    "        print(\"class={0}.__name__({0})\".format(cls))\n",
    "aaa= Person()\n",
    "aaa.method()\n",
    "print(\"1\",aaa.__dict__)\n",
    "print(Person.__dict__)\n",
    "Person.__name__\n",
    "print('------------------------------------')\n",
    "Person.class_method()\n",
    "aaa.age\n",
    "\n",
    "\n"
   ]
  },
  {
   "cell_type": "code",
   "execution_count": 14,
   "metadata": {},
   "outputs": [
    {
     "name": "stdout",
     "output_type": "stream",
     "text": [
      "1 {'__module__': '__main__', '__doc__': None}\n",
      "2 (<class '__main__.PrintableWord'>, <class '__main__.Printable'>, <class '__main__.Word'>, <class '__main__.Document'>, <class 'object'>)\n",
      "3 {'content': 'abcd'}\n",
      "------------------\n",
      "test string\n"
     ]
    }
   ],
   "source": [
    "#Mixin，加多个类，类中带方法\n",
    "class Document:\n",
    "    def __init__(self,content):\n",
    "        self.content=content\n",
    "    def print(self):\n",
    "        raise NotImplementtedError()\n",
    "class Word(Document):\n",
    "    pass\n",
    "class Pdf(Document):\n",
    "    pass\n",
    "\n",
    "class Printable:\n",
    "   # def __init__(self,prname):\n",
    "    #    self.prname=prname\n",
    "    def print(self):\n",
    "        print(self.content)\n",
    "class PrintableWord(Printable,Word):#优先找Printable执行,后Word\n",
    "    pass\n",
    "print(\"1\",PrintableWord.__dict__)\n",
    "print(\"2\",PrintableWord.__mro__)\n",
    "\n",
    "pw= PrintableWord(\"test string\")\n",
    "print(\"3\",aaa.__dict__)\n",
    "print('------------------')\n",
    "pw.print()"
   ]
  },
  {
   "cell_type": "code",
   "execution_count": 15,
   "metadata": {},
   "outputs": [
    {
     "name": "stdout",
     "output_type": "stream",
     "text": [
      "test string 装饰器\n"
     ]
    }
   ],
   "source": [
    "#装饰器\n",
    "class Document:\n",
    "    def __init__(self,content):\n",
    "        self.content=content\n",
    "    def print(self):#被覆盖\n",
    "        raise NotImplementtedError()\n",
    "class Word(Document):\n",
    "    pass\n",
    "class Pdf(Document):\n",
    "    pass\n",
    "def printable(cls):\n",
    "    def _print(self):\n",
    "        print(self.content,\"装饰器\")\n",
    "    cls.print =_print #类的方法是一个函数，没调用\n",
    "    return cls\n",
    "    \n",
    "@printable\n",
    "class PrintableWord(Word):\n",
    "    pass\n",
    "pw= PrintableWord(\"test string\")\n",
    "pw.print()#类方法调用"
   ]
  },
  {
   "cell_type": "code",
   "execution_count": null,
   "metadata": {},
   "outputs": [],
   "source": []
  }
 ],
 "metadata": {
  "kernelspec": {
   "display_name": "Python 3",
   "language": "python",
   "name": "python3"
  },
  "language_info": {
   "codemirror_mode": {
    "name": "ipython",
    "version": 3
   },
   "file_extension": ".py",
   "mimetype": "text/x-python",
   "name": "python",
   "nbconvert_exporter": "python",
   "pygments_lexer": "ipython3",
   "version": "3.7.4"
  }
 },
 "nbformat": 4,
 "nbformat_minor": 2
}
