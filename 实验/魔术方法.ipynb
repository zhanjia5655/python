{
 "cells": [
  {
   "cell_type": "code",
   "execution_count": 41,
   "metadata": {},
   "outputs": [
    {
     "name": "stdout",
     "output_type": "stream",
     "text": [
      "Point:(3,5)\n"
     ]
    }
   ],
   "source": [
    "class Point():\n",
    "    def __init__(self,x,y):\n",
    "        self.x=x\n",
    "        self.y=y\n",
    "    def __add__(self,other):\n",
    "        #return Point(self.x+other.x,self.y+other.y) #返回的是一个新生成的对象实例化\n",
    "        self.x=self.x+other.x\n",
    "        self.y=self.y+other.y\n",
    "        return self#返回一个实例\n",
    "   # def __repr__(self):\n",
    "    #    return \"Point:({},{})\".format(self.x,self.y)\n",
    "    def __str__(self):\n",
    "        return \"Point:({},{})\".format(self.x,self.y)\n",
    "\n",
    "\n",
    "p1=Point(1,2)\n",
    "p2=Point(2,3)\n",
    "print(p1+p2)\n"
   ]
  },
  {
   "cell_type": "code",
   "execution_count": 52,
   "metadata": {},
   "outputs": [
    {
     "name": "stdout",
     "output_type": "stream",
     "text": [
      "2\n"
     ]
    }
   ],
   "source": [
    "class Point(int):如果本实例没有定义repr 就调用int类的repr方法\n",
    "    def __init__(self,x):\n",
    "        self.x=x\n",
    "    def __add__(self,other):\n",
    "        #return Point(self.x+other.x,self.y+other.y) #返回的是一个新生成的对象实例化\n",
    "        self.x=self.x+other.x#other也必须是对象，下例中的p2\n",
    "        return self#返回一个实例\n",
    "   # def __repr__(self):\n",
    "    #    return \"Point:({},{})\".format(self.x,self.y)\n",
    "    #def __str__(self):\n",
    "     #   return \"int:{}\".format(self.x)\n",
    "\n",
    "p1=Point(2)\n",
    "p2=Point(3)\n",
    "print(p1+p2)\n",
    "\n",
    "\n"
   ]
  },
  {
   "cell_type": "code",
   "execution_count": 72,
   "metadata": {},
   "outputs": [
    {
     "name": "stdout",
     "output_type": "stream",
     "text": [
      "lst=[0, 1, 1, 2, 3, 5, 8, 13]\n"
     ]
    }
   ],
   "source": [
    "#1,1,2,3,5,8,13....容器\n",
    "class AAA:\n",
    "    def __init__(self):\n",
    "        self.lst=[0,1,1]\n",
    "\n",
    "    def __call__(self,n):\n",
    "        for i in range(3,n):\n",
    "            self.lst.append(self.lst[i-1]+self.lst[i-2])\n",
    "        return self\n",
    "    def __str__(self):\n",
    "        return \"lst={}\".format(self.lst)\n",
    "        \n",
    "print(AAA()(8))\n",
    "    \n",
    "        "
   ]
  },
  {
   "cell_type": "code",
   "execution_count": 13,
   "metadata": {},
   "outputs": [
    {
     "name": "stdout",
     "output_type": "stream",
     "text": [
      "{'__module__': '__main__', '__init__': <function A.__init__ at 0x000002180DC11048>, '__dict__': <attribute '__dict__' of 'A' objects>, '__weakref__': <attribute '__weakref__' of 'A' objects>, '__doc__': None, 'y': 10}\n",
      "{'x': 5}\n",
      "5\n",
      "10\n",
      "10\n",
      "---------------\n"
     ]
    },
    {
     "data": {
      "text/plain": [
       "(10, 5)"
      ]
     },
     "execution_count": 13,
     "metadata": {},
     "output_type": "execute_result"
    }
   ],
   "source": [
    "class A:\n",
    "    def __init__(self):\n",
    "        self.x=5\n",
    "a=A()\n",
    "setattr(A,\"y\",10)\n",
    "\n",
    "print(A.__dict__)\n",
    "print(a.__dict__)\n",
    "print(getattr(a,\"x\"))\n",
    "print(getattr(a,\"y\"))\n",
    "print(getattr(A,\"y\"))\n",
    "print(\"---------------\")\n",
    "(a.y,a.x)"
   ]
  },
  {
   "cell_type": "code",
   "execution_count": 3,
   "metadata": {},
   "outputs": [
    {
     "name": "stdout",
     "output_type": "stream",
     "text": [
      "A.init\n",
      "-1-----------------\n",
      "A.__get__<__main__.A object at 0x0000024F7491FB08>None<class '__main__.B'>\n",
      "<__main__.A object at 0x0000024F7491FB08>\n",
      "-2-----------------\n",
      "A.__get__<__main__.A object at 0x0000024F7491FB08>None<class '__main__.B'>\n",
      "3\n",
      "--3----------------\n",
      "B.init\n",
      "A.__set__<__main__.A object at 0x0000024F7491FB08><__main__.B object at 0x0000024F74912208>b.x\n",
      "<__main__.B object at 0x0000024F74912208>\n",
      "<class '__main__.B'>\n",
      "--5----------------\n",
      "A.__get__<__main__.A object at 0x0000024F7491FB08><__main__.B object at 0x0000024F74912208><class '__main__.B'>\n",
      "3\n",
      "--4----------------\n",
      "{'__module__': '__main__', 'x': <__main__.A object at 0x0000024F7491FB08>, '__init__': <function B.__init__ at 0x0000024F7490F288>, '__dict__': <attribute '__dict__' of 'B' objects>, '__weakref__': <attribute '__weakref__' of 'B' objects>, '__doc__': None}\n",
      "{'y': '2b.x'}\n"
     ]
    }
   ],
   "source": [
    "class A:\n",
    "    b1=4\n",
    "    def __init__(self):\n",
    "        self.a1=\"3\"\n",
    "        print(\"A.init\")\n",
    "    def __get__(self,instance,owner):\n",
    "        print(\"A.__get__{}{}{}\".format(self,instance,owner))\n",
    "        return self\n",
    "    def __set__(self,instance,value):\n",
    "        print(\"A.__set__{}{}{}\".format(self,instance,value))\n",
    "        self.data=value\n",
    "class B:\n",
    "    x = A()\n",
    "    def __init__(self):\n",
    "        print(\"B.init\")\n",
    "        self.x=\"b.x\"\n",
    "        self.y=\"2b.x\"\n",
    "\n",
    "print(\"-1-----------------\")\n",
    "print(B.x)\n",
    "print(\"-2-----------------\")\n",
    "print(B.x.a1)\n",
    "print(\"--3----------------\")\n",
    "b=B()\n",
    "print(b)\n",
    "print(B)\n",
    "print(\"--5----------------\")\n",
    "print(b.x.a1)\n",
    "print(\"--4----------------\")\n",
    "print(B.__dict__)\n",
    "print(b.__dict__)\n"
   ]
  },
  {
   "cell_type": "code",
   "execution_count": 91,
   "metadata": {},
   "outputs": [
    {
     "name": "stdout",
     "output_type": "stream",
     "text": [
      "A.init\n",
      "-1-----------------\n",
      "<__main__.A object at 0x000002192B0C8548>\n",
      "-2-----------------\n",
      "3\n",
      "--3----------------\n",
      "B.init\n",
      "3\n",
      "--4----------------\n"
     ]
    }
   ],
   "source": [
    "class A:\n",
    "    b1=4\n",
    "    def __init__(self,):\n",
    "        self.a1=3\n",
    "        print(\"A.init\")\n",
    "    def __get__(self,instance,owner):\n",
    "        print(\"A.__get__{}{}{}\".format(self,instance,owner))\n",
    "        return self\n",
    "\n",
    "class B:\n",
    "    x = A()\n",
    "    def __init__(self):\n",
    "        print(\"B.init\")\n",
    "\n",
    "\n",
    "print(\"-1-----------------\")\n",
    "print(B.x)\n",
    "print(\"-2-----------------\")\n",
    "print(B.x.a1)\n",
    "print(\"--3----------------\")\n",
    "b=B()\n",
    "print(b.x.a1)\n",
    "print(\"--4----------------\")\n"
   ]
  },
  {
   "cell_type": "code",
   "execution_count": 98,
   "metadata": {},
   "outputs": [
    {
     "name": "stdout",
     "output_type": "stream",
     "text": [
      "A.init\n",
      "B.init\n",
      "A.__get__<__main__.A object at 0x000002192B0E2F88><__main__.B object at 0x000002192B0E2F48><class '__main__.B'>\n",
      "<__main__.A object at 0x000002192B0E2F88>\n",
      "--4----------------\n",
      "A.__get__<__main__.A object at 0x000002192B0E2F88><__main__.B object at 0x000002192B0E2F48><class '__main__.B'>\n",
      "3\n"
     ]
    }
   ],
   "source": [
    "class A:\n",
    "    b1=4\n",
    "    def __init__(self,):\n",
    "        self.a1=3\n",
    "        print(\"A.init\")\n",
    "    def __get__(self,instance,owner):\n",
    "        print(\"A.__get__{}{}{}\".format(self,instance,owner))\n",
    "        return self\n",
    "\n",
    "class B:\n",
    "    x = A()\n",
    "    def __init__(self):\n",
    "        print(\"B.init\")\n",
    "        #self.x=A() #实例调用A（）不会触发描述其\n",
    "        \n",
    "b=B()\n",
    "print(b.x)\n",
    "print(\"--4----------------\")\n",
    "print(b.x.a1)\n",
    "\n"
   ]
  },
  {
   "cell_type": "code",
   "execution_count": 99,
   "metadata": {},
   "outputs": [
    {
     "name": "stdout",
     "output_type": "stream",
     "text": [
      "A.init\n",
      "B.init\n",
      "A.init\n",
      "<__main__.A object at 0x000002192B0EFC48>\n",
      "--4----------------\n",
      "3\n"
     ]
    }
   ],
   "source": [
    "class A:\n",
    "    b1=4\n",
    "    def __init__(self,):\n",
    "        self.a1=3\n",
    "        print(\"A.init\")\n",
    "    def __get__(self,instance,owner):\n",
    "        print(\"A.__get__{}{}{}\".format(self,instance,owner))\n",
    "        return self\n",
    "\n",
    "class B:\n",
    "    x = A()\n",
    "    def __init__(self):\n",
    "        print(\"B.init\")\n",
    "        self.x=A() #实例调用A（）不会触发描述其\n",
    "        \n",
    "b=B()\n",
    "print(b.x)\n",
    "print(\"--4----------------\")\n",
    "print(b.x.a1)"
   ]
  },
  {
   "cell_type": "code",
   "execution_count": 102,
   "metadata": {},
   "outputs": [
    {
     "name": "stdout",
     "output_type": "stream",
     "text": [
      "A.init\n",
      "A.__get__<__main__.A object at 0x000002192B0C8348>None<class '__main__.B'>\n",
      "<__main__.A object at 0x000002192B0C8348>\n"
     ]
    }
   ],
   "source": [
    "class A:\n",
    "    b1=4\n",
    "    def __init__(self,):\n",
    "        self.a1=3\n",
    "        print(\"A.init\")\n",
    "    def __get__(self,instance,owner):\n",
    "        print(\"A.__get__{}{}{}\".format(self,instance,owner))\n",
    "        return self\n",
    "\n",
    "class B:\n",
    "    x = A()\n",
    "    def __init__(self):\n",
    "        print(\"B.init\")\n",
    "        self.x=A() #实例调用A（）不会触发描述其\n",
    "        \n",
    "#b=B()\n",
    "print(B.x)#调用了触发器\n"
   ]
  },
  {
   "cell_type": "code",
   "execution_count": 3,
   "metadata": {},
   "outputs": [
    {
     "name": "stdout",
     "output_type": "stream",
     "text": [
      "-------------------\n",
      "A.__get11__<__main__.A object at 0x0000026C14D8F908>None<class '__main__.B'>\n",
      "A.__get11__<__main__.A object at 0x0000026C14D8F908>None<class '__main__.B'>\n",
      "---------------------------------------\n",
      "A.__get11__<__main__.A object at 0x0000026C14D8F908><__main__.B object at 0x0000026C14C4A448><class '__main__.B'>\n",
      "3\n"
     ]
    }
   ],
   "source": [
    "class A:\n",
    "    b = 3\n",
    "    def __init_(self):\n",
    "        self.a1=\"a1\"\n",
    "        print(\"A.init\")\n",
    "    def __get__(self,instance,owner):\n",
    "        print(\"A.__get11__{}{}{}\".format(self,instance,owner))\n",
    "        return self\n",
    "    def __set__(self,instance,value):\n",
    "        print(\"A.__set__{}{}{}\".format(self,instance,value))\n",
    "        self.data=value\n",
    "class B:\n",
    "    x=A()\n",
    "    def __init(self):\n",
    "        print(\"B.init\")\n",
    "        self.x=\"b.x\"\n",
    "        self.y=\"b.x\"\n",
    "print(\"-------------------\")\n",
    "B.x.b\n",
    "B.x\n",
    "print(\"---------------------------------------\")\n",
    "b=B()\n",
    "print(b.x.b)"
   ]
  },
  {
   "cell_type": "code",
   "execution_count": 6,
   "metadata": {},
   "outputs": [
    {
     "name": "stdout",
     "output_type": "stream",
     "text": [
      "A.init\n",
      "-1-----------------\n",
      "A.__get__<__main__.A object at 0x00000226451E8F08>None<class '__main__.B'>\n",
      "<__main__.A object at 0x00000226451E8F08>\n",
      "---------------------\n",
      "B.init\n",
      "A.__set__<__main__.A object at 0x00000226451E8F08><__main__.B object at 0x00000226451E3348>b.x\n"
     ]
    }
   ],
   "source": [
    "class A:\n",
    "    b1=4\n",
    "    def __init__(self):\n",
    "        self.a1=\"3\"\n",
    "        print(\"A.init\")\n",
    "    def __get__(self,instance,owner):\n",
    "        print(\"A.__get__{}{}{}\".format(self,instance,owner))\n",
    "        return self\n",
    "    def __set__(self,instance,value):\n",
    "        print(\"A.__set__{}{}{}\".format(self,instance,value))\n",
    "        #self.data=value\n",
    "class B:\n",
    "    x = A()\n",
    "    def __init__(self):\n",
    "        print(\"B.init\")\n",
    "        self.x=\"b.x\"\n",
    "        self.y=\"2b.x\"\n",
    "\n",
    "print(\"-1-----------------\")\n",
    "print(B.x)\n",
    "print(\"---------------------\")\n",
    "b=B()\n",
    "\n"
   ]
  },
  {
   "cell_type": "code",
   "execution_count": 2,
   "metadata": {},
   "outputs": [
    {
     "name": "stdout",
     "output_type": "stream",
     "text": [
      "123\n"
     ]
    },
    {
     "data": {
      "text/plain": [
       "False"
      ]
     },
     "execution_count": 2,
     "metadata": {},
     "output_type": "execute_result"
    }
   ],
   "source": [
    "def a():\n",
    "    print(\"123\")\n",
    "callable(a\n",
    "\n",
    "    "
   ]
  },
  {
   "cell_type": "code",
   "execution_count": null,
   "metadata": {},
   "outputs": [],
   "source": []
  }
 ],
 "metadata": {
  "kernelspec": {
   "display_name": "Python 3",
   "language": "python",
   "name": "python3"
  },
  "language_info": {
   "codemirror_mode": {
    "name": "ipython",
    "version": 3
   },
   "file_extension": ".py",
   "mimetype": "text/x-python",
   "name": "python",
   "nbconvert_exporter": "python",
   "pygments_lexer": "ipython3",
   "version": "3.7.4"
  }
 },
 "nbformat": 4,
 "nbformat_minor": 2
}
